{
 "cells": [
  {
   "cell_type": "code",
   "execution_count": 65,
   "metadata": {},
   "outputs": [
    {
     "name": "stdout",
     "output_type": "stream",
     "text": [
      "mps\n"
     ]
    }
   ],
   "source": [
    "# Importing initial packages\n",
    "import pandas as pd\n",
    "import numpy as np\n",
    "import torch\n",
    "import torch.nn as nn\n",
    "import torch.optim as optim\n",
    "from sklearn.model_selection import train_test_split\n",
    "from torch.utils.data import DataLoader, Dataset\n",
    "import seaborn as sns\n",
    "sns.set_style('whitegrid')\n",
    "sns.set_palette(\"deep\")\n",
    "import matplotlib.pyplot as plt\n",
    "\n",
    "# Setting the device to GPU for parallelization\n",
    "device = 'mps' if torch.backends.mps.is_available() else 'cuda' if torch.cuda.is_available() else 'cpu'\n",
    "print(device)"
   ]
  },
  {
   "cell_type": "code",
   "execution_count": 66,
   "metadata": {},
   "outputs": [],
   "source": [
    "# Setting Hyperparameters\n",
    "batch_size = 64\n",
    "epochs = 4"
   ]
  },
  {
   "cell_type": "code",
   "execution_count": 67,
   "metadata": {},
   "outputs": [],
   "source": [
    "# In my project folder I added a data folder with both files (found in repo README) but did not push (gitignore) due to size\n",
    "movies = pd.read_csv('data/movies.csv')\n",
    "\n",
    "ratings = pd.read_csv('data/ratings.csv')"
   ]
  },
  {
   "cell_type": "code",
   "execution_count": 68,
   "metadata": {},
   "outputs": [
    {
     "data": {
      "text/html": [
       "<div>\n",
       "<style scoped>\n",
       "    .dataframe tbody tr th:only-of-type {\n",
       "        vertical-align: middle;\n",
       "    }\n",
       "\n",
       "    .dataframe tbody tr th {\n",
       "        vertical-align: top;\n",
       "    }\n",
       "\n",
       "    .dataframe thead th {\n",
       "        text-align: right;\n",
       "    }\n",
       "</style>\n",
       "<table border=\"1\" class=\"dataframe\">\n",
       "  <thead>\n",
       "    <tr style=\"text-align: right;\">\n",
       "      <th></th>\n",
       "      <th>movieId</th>\n",
       "      <th>title</th>\n",
       "      <th>genres</th>\n",
       "    </tr>\n",
       "  </thead>\n",
       "  <tbody>\n",
       "    <tr>\n",
       "      <th>0</th>\n",
       "      <td>1</td>\n",
       "      <td>Toy Story (1995)</td>\n",
       "      <td>Adventure|Animation|Children|Comedy|Fantasy</td>\n",
       "    </tr>\n",
       "    <tr>\n",
       "      <th>1</th>\n",
       "      <td>2</td>\n",
       "      <td>Jumanji (1995)</td>\n",
       "      <td>Adventure|Children|Fantasy</td>\n",
       "    </tr>\n",
       "    <tr>\n",
       "      <th>2</th>\n",
       "      <td>3</td>\n",
       "      <td>Grumpier Old Men (1995)</td>\n",
       "      <td>Comedy|Romance</td>\n",
       "    </tr>\n",
       "    <tr>\n",
       "      <th>3</th>\n",
       "      <td>4</td>\n",
       "      <td>Waiting to Exhale (1995)</td>\n",
       "      <td>Comedy|Drama|Romance</td>\n",
       "    </tr>\n",
       "    <tr>\n",
       "      <th>4</th>\n",
       "      <td>5</td>\n",
       "      <td>Father of the Bride Part II (1995)</td>\n",
       "      <td>Comedy</td>\n",
       "    </tr>\n",
       "  </tbody>\n",
       "</table>\n",
       "</div>"
      ],
      "text/plain": [
       "   movieId                               title  \\\n",
       "0        1                    Toy Story (1995)   \n",
       "1        2                      Jumanji (1995)   \n",
       "2        3             Grumpier Old Men (1995)   \n",
       "3        4            Waiting to Exhale (1995)   \n",
       "4        5  Father of the Bride Part II (1995)   \n",
       "\n",
       "                                        genres  \n",
       "0  Adventure|Animation|Children|Comedy|Fantasy  \n",
       "1                   Adventure|Children|Fantasy  \n",
       "2                               Comedy|Romance  \n",
       "3                         Comedy|Drama|Romance  \n",
       "4                                       Comedy  "
      ]
     },
     "execution_count": 68,
     "metadata": {},
     "output_type": "execute_result"
    }
   ],
   "source": [
    "# Creating encoders and decoders for our movie ids\n",
    "movie_ids = list(movies.movieId)\n",
    "moviesid_to_title = dict(zip(movies.movieId,movies.title))    # Decoder\n",
    "movietitle_to_id = {j:i for i,j in moviesid_to_title.items()} # Encoder\n",
    "\n",
    "movies.head()"
   ]
  },
  {
   "cell_type": "markdown",
   "metadata": {},
   "source": [
    "## Data Preprocessing"
   ]
  },
  {
   "cell_type": "code",
   "execution_count": 69,
   "metadata": {},
   "outputs": [],
   "source": [
    "# Assume NAs are not watched by user, so rating of 0\n",
    "user_rating_matrix = ratings.pivot(index='userId', columns='movieId', values='rating').fillna(0)\n",
    "user_rating_matrix_np = user_rating_matrix.values\n",
    "train_data, test_data = train_test_split(user_rating_matrix_np, test_size=0.2, random_state=42)\n",
    "train_data = torch.FloatTensor(train_data)\n",
    "test_data = torch.FloatTensor(test_data)"
   ]
  },
  {
   "cell_type": "code",
   "execution_count": 70,
   "metadata": {},
   "outputs": [],
   "source": [
    "class RatingsDataset(Dataset):\n",
    "    def __init__(self, data):\n",
    "        self.data = data.nonzero(as_tuple=True) # Get the indices of non-zero elements\n",
    "        self.ratings = data[self.data]          # Using non-zero indiced to extract those ratings\n",
    "\n",
    "    def __len__ (self):\n",
    "        return len(self.data[0])\n",
    "    \n",
    "    def __getitem__ (self, idx):\n",
    "        user = self.data[0][idx]\n",
    "        item = self.data[1][idx]\n",
    "        rating = self.ratings[idx]\n",
    "        \n",
    "        return user, item, rating\n",
    "    \n",
    "train_dataset = RatingsDataset(train_data)\n",
    "train_loader = DataLoader(train_dataset, batch_size=batch_size, shuffle = True)\n",
    "\n",
    "test_dataset = RatingsDataset(test_data)\n",
    "test_loader = DataLoader(test_dataset, batch_size=batch_size, shuffle = False)"
   ]
  },
  {
   "cell_type": "code",
   "execution_count": 71,
   "metadata": {},
   "outputs": [],
   "source": [
    "criterion = nn.MSELoss()\n",
    "num_users, num_items = user_rating_matrix_np.shape"
   ]
  },
  {
   "cell_type": "markdown",
   "metadata": {},
   "source": [
    "# Models"
   ]
  },
  {
   "cell_type": "markdown",
   "metadata": {},
   "source": [
    "### Model 1"
   ]
  },
  {
   "cell_type": "markdown",
   "metadata": {},
   "source": [
    "Original Model Architecture\n",
    "- Embed_Dim = 64\n",
    "- 4 Linear Layers (128>128>64>16>1)\n",
    "- 2 Dropouts (0.5, 0.4)\n",
    "- 3 Batch Norms"
   ]
  },
  {
   "cell_type": "code",
   "execution_count": 72,
   "metadata": {},
   "outputs": [],
   "source": [
    "class Model1(nn.Module):\n",
    "    def __init__(self, num_users, num_items, n_embd = 64):\n",
    "        super(Model1, self).__init__()\n",
    "        self.user_embedding = nn.Embedding(num_users, n_embd) # Creating an embedding for our users with the correct dimensions\n",
    "        self.item_embedding = nn.Embedding(num_items, n_embd) # Embedding items\n",
    "        \n",
    "        self.fc1 = nn.Linear(n_embd * 2, 128)                 # First fully connected (fc) layer\n",
    "        self.fc2 = nn.Linear(128, 64)                         # Second fc layer\n",
    "        self.fc3 = nn.Linear(64, 16)                          # Finaly fc layer, with an output of one value\n",
    "        self.fc4 = nn.Linear(16, 1)                           # Finaly fc layer, with an output of one value\n",
    "       \n",
    "        self.sigmoid = nn.Sigmoid()                           # Sigmoid activation function to compress the output to a value between (0,1)\n",
    "        \n",
    "        self.dropout1 = nn.Dropout(0.5)                       # Dropout layer to prevent overfitting\n",
    "        self.dropout2 = nn.Dropout(0.4)                       # Dropout layer to prevent overfitting\n",
    "        \n",
    "        self.bn1 = nn.BatchNorm1d(128)\n",
    "        self.bn2 = nn.BatchNorm1d(64)\n",
    "        self.bn3 = nn.BatchNorm1d(16)\n",
    "\n",
    "\n",
    "    def forward(self, user, item):\n",
    "        user_embed = self.user_embedding(user)          # Embedding our users\n",
    "        item_embed = self.item_embedding(item)          # Embedding the movies\n",
    "        \n",
    "        x = torch.cat([user_embed, item_embed], dim=-1) # Concatenating the users and items \n",
    "        x = torch.relu(self.fc1(x))                     # Applying first fc layer, with a ReLU activation function\n",
    "        x = self.bn1(x)\n",
    "        x = self.dropout1(x)\n",
    "        x = torch.relu(self.fc2(x))\n",
    "        x = self.bn2(x)\n",
    "        x = self.dropout2(x)\n",
    "        x = torch.relu(self.fc3(x))\n",
    "        x = self.bn3(x)\n",
    "        x = self.fc4(x)                                 # Final layer to get predicted rating\n",
    "        x = self.sigmoid(x)                             # Applying the sigmoid function\n",
    "        x = x*5                                         # Scale the output from [0,1] to [0,5]   \n",
    "        return x\n",
    "\n",
    "def initialise_model1(num_users= num_users, num_items=num_items, lr=0.03, wd=2.5e-5):\n",
    "    global model\n",
    "    model = Model1(num_users, num_items)\n",
    "    model = model.to(device)\n",
    "    global optimizer\n",
    "    optimizer = optim.Adam(model.parameters(), lr = lr, weight_decay=wd)"
   ]
  },
  {
   "cell_type": "markdown",
   "metadata": {},
   "source": [
    "## Model 2"
   ]
  },
  {
   "cell_type": "markdown",
   "metadata": {},
   "source": [
    "- Embed_Dim = 32\n",
    "- 4 Linear Layers (64>128>64>16>1)\n",
    "- 2 Dropouts (0.5, 0.4)\n",
    "- 3 Batch Norms\n",
    "\n",
    "Less model complexity compared to Model 1 to combat overfitting"
   ]
  },
  {
   "cell_type": "code",
   "execution_count": 73,
   "metadata": {},
   "outputs": [],
   "source": [
    "class Model2(nn.Module):\n",
    "    def __init__(self, num_users, num_items, n_embd = 32):\n",
    "        super(Model2, self).__init__()\n",
    "        self.user_embedding = nn.Embedding(num_users, n_embd) # Creating an embedding for our users with the correct dimensions\n",
    "        self.item_embedding = nn.Embedding(num_items, n_embd) # Embedding items\n",
    "        \n",
    "        self.fc1 = nn.Linear(n_embd * 2, 128)                 # First fully connected (fc) layer\n",
    "        self.fc2 = nn.Linear(128, 64)                         # Second fc layer\n",
    "        self.fc3 = nn.Linear(64, 16)                          # Finaly fc layer, with an output of one value\n",
    "        self.fc4 = nn.Linear(16, 1)                           # Finaly fc layer, with an output of one value\n",
    "       \n",
    "        self.sigmoid = nn.Sigmoid()                           # Sigmoid activation function to compress the output to a value between (0,1)\n",
    "        \n",
    "        self.dropout1 = nn.Dropout(0.5)                       # Dropout layer to prevent overfitting\n",
    "        self.dropout2 = nn.Dropout(0.4)                       # Dropout layer to prevent overfitting\n",
    "        \n",
    "        self.bn1 = nn.BatchNorm1d(128)\n",
    "        self.bn2 = nn.BatchNorm1d(64)\n",
    "        self.bn3 = nn.BatchNorm1d(16)\n",
    "\n",
    "\n",
    "    def forward(self, user, item):\n",
    "        user_embed = self.user_embedding(user)          # Embedding our users\n",
    "        item_embed = self.item_embedding(item)          # Embedding the movies\n",
    "        \n",
    "        x = torch.cat([user_embed, item_embed], dim=-1) # Concatenating the users and items \n",
    "        x = torch.relu(self.fc1(x))                     # Applying first fc layer, with a ReLU activation function\n",
    "        x = self.bn1(x)\n",
    "        x = self.dropout1(x)\n",
    "        x = torch.relu(self.fc2(x))\n",
    "        x = self.bn2(x)\n",
    "        x = self.dropout2(x)\n",
    "        x = torch.relu(self.fc3(x))\n",
    "        x = self.bn3(x)\n",
    "        x = self.fc4(x)                                 # Final layer to get predicted rating\n",
    "        x = self.sigmoid(x)                             # Applying the sigmoid function\n",
    "        x = x*5                                         # Scale the output from [0,1] to [0,5]   \n",
    "        return x\n",
    "\n",
    "def initialise_model2(num_users = num_users, num_items=num_items, lr=0.03, wd=2.5e-5):\n",
    "    global model\n",
    "    model = Model2(num_users, num_items)\n",
    "    model = model.to(device)\n",
    "    global optimizer\n",
    "    optimizer = optim.Adam(model.parameters(), lr = lr, weight_decay=wd)"
   ]
  },
  {
   "cell_type": "markdown",
   "metadata": {},
   "source": [
    "## Model 3\n",
    "- Embed_Dim = 32\n",
    "- 3 Linear Layers (64>128>32>1)\n",
    "- 1 Dropout (0.5)\n",
    "- 2 Batch Norms\n",
    "\n",
    "Less model complexity compared to Model 2 to increase generalization"
   ]
  },
  {
   "cell_type": "code",
   "execution_count": 74,
   "metadata": {},
   "outputs": [],
   "source": [
    "class Model3(nn.Module):\n",
    "    def __init__(self, num_users, num_items, n_embd = 32):\n",
    "        super(Model3, self).__init__()\n",
    "        self.user_embedding = nn.Embedding(num_users, n_embd) # Creating an embedding for our users with the correct dimensions\n",
    "        self.item_embedding = nn.Embedding(num_items, n_embd) # Embedding items\n",
    "        \n",
    "        self.fc1 = nn.Linear(n_embd * 2, 128)                 # First fully connected (fc) layer\n",
    "        self.fc2 = nn.Linear(128, 32)                         # Second fc layer\n",
    "        self.fc3 = nn.Linear(32, 1)                          # Finaly fc layer, with an output of one value\n",
    "       \n",
    "        self.sigmoid = nn.Sigmoid()                           # Sigmoid activation function to compress the output to a value between (0,1)\n",
    "        \n",
    "        self.dropout1 = nn.Dropout(0.5)                       # Dropout layer to prevent overfitting\n",
    "        \n",
    "        self.bn1 = nn.BatchNorm1d(128)\n",
    "        self.bn2 = nn.BatchNorm1d(32)\n",
    "\n",
    "\n",
    "    def forward(self, user, item):\n",
    "        user_embed = self.user_embedding(user)          # Embedding our users\n",
    "        item_embed = self.item_embedding(item)          # Embedding the movies\n",
    "        \n",
    "        x = torch.cat([user_embed, item_embed], dim=-1) # Concatenating the users and items \n",
    "        x = torch.relu(self.fc1(x))                     # Applying first fc layer, with a ReLU activation function\n",
    "        x = self.bn1(x)\n",
    "        x = self.dropout1(x)\n",
    "        x = torch.relu(self.fc2(x))\n",
    "        x = self.bn2(x)\n",
    "        x = self.fc3(x)\n",
    "        x = self.sigmoid(x)                             # Applying the sigmoid function\n",
    "        x = x*5                                         # Scale the output from [0,1] to [0,5]   \n",
    "        return x\n",
    "\n",
    "def initialise_model3(num_users = num_users, num_items=num_items, lr=0.03, wd=2.5e-5):\n",
    "    global model\n",
    "    model = Model3(num_users, num_items)\n",
    "    model = model.to(device)\n",
    "    global optimizer\n",
    "    optimizer = optim.Adam(model.parameters(), lr = lr, weight_decay=wd)"
   ]
  },
  {
   "cell_type": "markdown",
   "metadata": {},
   "source": [
    "## Model 4\n",
    "- Embed_Dim = 64\n",
    "- 4 Linear Layers (64>128>32>1)\n",
    "- 1 Dropout (0.5)\n",
    "- 2 Batch Norms\n",
    "\n",
    "Same number of linear layers as Model 1, but smaller dropouts and less neurons."
   ]
  },
  {
   "cell_type": "code",
   "execution_count": 75,
   "metadata": {},
   "outputs": [],
   "source": [
    "class Model4(nn.Module):\n",
    "    def __init__(self, num_users, num_items, n_embd = 64):\n",
    "        super(Model4, self).__init__()\n",
    "        self.user_embedding = nn.Embedding(num_users, n_embd) # Creating an embedding for our users with the correct dimensions\n",
    "        self.item_embedding = nn.Embedding(num_items, n_embd) # Embedding items\n",
    "        \n",
    "        self.fc1 = nn.Linear(n_embd * 2, 128)                 # First fully connected (fc) layer\n",
    "        self.fc2 = nn.Linear(128, 64)                         # Second fc layer\n",
    "        self.fc3 = nn.Linear(64, 16)                          # Finaly fc layer, with an output of one value\n",
    "        self.fc4 = nn.Linear(16, 1)                           # Finaly fc layer, with an output of one value\n",
    "       \n",
    "        self.sigmoid = nn.Sigmoid()                           # Sigmoid activation function to compress the output to a value between (0,1)\n",
    "        \n",
    "        self.dropout1 = nn.Dropout(0.5)                       # Dropout layer to prevent overfitting\n",
    "        self.dropout2 = nn.Dropout(0.4)                       # Dropout layer to prevent overfitting\n",
    "        \n",
    "        self.bn1 = nn.BatchNorm1d(128)\n",
    "        self.bn2 = nn.BatchNorm1d(64)\n",
    "        self.bn3 = nn.BatchNorm1d(16)\n",
    "\n",
    "\n",
    "    def forward(self, user, item):\n",
    "        user_embed = self.user_embedding(user)          # Embedding our users\n",
    "        item_embed = self.item_embedding(item)          # Embedding the movies\n",
    "        \n",
    "        x = torch.cat([user_embed, item_embed], dim=-1) # Concatenating the users and items \n",
    "        x = torch.relu(self.fc1(x))                     # Applying first fc layer, with a ReLU activation function\n",
    "        x = self.bn1(x)\n",
    "        x = self.dropout1(x)\n",
    "        x = torch.relu(self.fc2(x))\n",
    "        x = self.bn2(x)\n",
    "        x = self.dropout2(x)\n",
    "        x = torch.relu(self.fc3(x))\n",
    "        x = self.bn3(x)\n",
    "        x = self.fc4(x)                                 # Final layer to get predicted rating\n",
    "        x = self.sigmoid(x)                             # Applying the sigmoid function\n",
    "        x = x*5                                         # Scale the output from [0,1] to [0,5]   \n",
    "        return x\n",
    "\n",
    "def initialise_model4(num_users= num_users, num_items=num_items, lr=0.03, wd=2.5e-5):\n",
    "    global model\n",
    "    model = Model4(num_users, num_items)\n",
    "    model = model.to(device)\n",
    "    global optimizer\n",
    "    optimizer = optim.Adam(model.parameters(), lr = lr, weight_decay=wd)"
   ]
  },
  {
   "cell_type": "markdown",
   "metadata": {},
   "source": [
    "## Training Loop Function"
   ]
  },
  {
   "cell_type": "code",
   "execution_count": 76,
   "metadata": {},
   "outputs": [],
   "source": [
    "def training_loop(epochs=epochs):\n",
    "    model.train()\n",
    "    for epoch in range(1, epochs+1):\n",
    "        total_loss = 0\n",
    "        for user, item, rating in train_loader:\n",
    "            user, item, rating = user.to(device), item.to(device), rating.to(device)\n",
    "            optimizer.zero_grad()\n",
    "            output = model(user, item).squeeze()\n",
    "            loss = criterion(output, rating)\n",
    "            loss.backward()\n",
    "            optimizer.step()\n",
    "            total_loss += loss.item()\n",
    "        \n",
    "        # Print loss after every epoch\n",
    "        epoch_loss = total_loss/len(train_loader)          # Get the average loss for this epoch\n",
    "        print(f\"    Epoch {epoch}, Loss: {epoch_loss}\")    # Print the average loss for this epoch\n",
    "    \n",
    "    return epoch_loss                                      # Return the final loss\n",
    "\n",
    "# training_loop()"
   ]
  },
  {
   "cell_type": "markdown",
   "metadata": {},
   "source": [
    "## Val Loop Function"
   ]
  },
  {
   "cell_type": "code",
   "execution_count": 77,
   "metadata": {},
   "outputs": [],
   "source": [
    "def validation_loop():\n",
    "    model.eval()\n",
    "    total_loss = 0\n",
    "    with torch.no_grad():\n",
    "        for user, item, rating in test_loader:\n",
    "            user, item, rating = user.to(device), item.to(device), rating.to(device)\n",
    "            output = model(user, item).squeeze()\n",
    "            loss = criterion(output, rating)\n",
    "            total_loss += loss.item()\n",
    "        \n",
    "    test_loss = total_loss / len(test_loader)   \n",
    "\n",
    "    print(f\"    Test Loss: {test_loss}\")\n",
    "    return test_loss"
   ]
  },
  {
   "cell_type": "markdown",
   "metadata": {},
   "source": [
    "# Model Testing"
   ]
  },
  {
   "cell_type": "markdown",
   "metadata": {},
   "source": [
    "### Defining a fn to loop through Learning Rates, returning a dict of losses."
   ]
  },
  {
   "cell_type": "code",
   "execution_count": 78,
   "metadata": {},
   "outputs": [],
   "source": [
    "learning_rates = [0.0005]#,0.001, 0.003, 0.005, 0.01, 0.013, 0.015]\n",
    "wd_list = [1e-5, 1.5e-5, 2e-5, 2.5e-5]\n",
    "\n",
    "def parameter_fn(model = initialise_model1, name = \"Model 1\", lr_list= learning_rates, epochs = epochs):\n",
    "    lr_dict = {'Name': name, 'learning_rate': [], 'weight_decay':[], 'training_loss': [], 'test_loss': [], 'test_diff':[]}\n",
    "    for lr in lr_list:\n",
    "        for wd in wd_list:\n",
    "            print(f\"Learning Rate: {lr}, Weight Decay: {wd}\")\n",
    "            model(lr=lr)\n",
    "            training_loss = training_loop(epochs)\n",
    "            test_loss = validation_loop()\n",
    "            \n",
    "            lr_dict['weight_decay'].append(wd)\n",
    "            lr_dict['learning_rate'].append(lr)\n",
    "            lr_dict['training_loss'].append(training_loss)\n",
    "            lr_dict['test_loss'].append(test_loss)\n",
    "            lr_dict['test_diff'].append((test_loss/training_loss)-1)\n",
    "\n",
    "    return lr_dict\n",
    "\n",
    "# lr_df=pd.DataFrame(learning_rate_fn())\n",
    "# lr_df.sort_values(by='test_diff', ascending=True)"
   ]
  },
  {
   "cell_type": "code",
   "execution_count": 79,
   "metadata": {},
   "outputs": [
    {
     "name": "stdout",
     "output_type": "stream",
     "text": [
      "Now processing: Model 1\n",
      "Learning Rate: 0.0005\n",
      "    Epoch 1, Loss: 1.3202411105686969\n",
      "    Epoch 2, Loss: 1.0294008000226287\n",
      "    Epoch 3, Loss: 0.9773169207823026\n",
      "    Epoch 4, Loss: 0.9416111606609571\n",
      "    Test Loss: 0.9536372497849872\n",
      "Learning Rate: 0.0005\n",
      "    Epoch 1, Loss: 1.4265778705060899\n",
      "    Epoch 2, Loss: 1.0241789845424099\n",
      "    Epoch 3, Loss: 0.9734814175359019\n",
      "    Epoch 4, Loss: 0.9360131395759282\n",
      "    Test Loss: 0.9621827895247633\n",
      "Learning Rate: 0.0005\n",
      "    Epoch 1, Loss: 1.2891746784423614\n",
      "    Epoch 2, Loss: 1.004556462950223\n",
      "    Epoch 3, Loss: 0.9576908595130577\n",
      "    Epoch 4, Loss: 0.9209135133851242\n",
      "    Test Loss: 1.0181428350284523\n",
      "Learning Rate: 0.0005\n",
      "    Epoch 1, Loss: 1.4451603607593717\n",
      "    Epoch 2, Loss: 1.0184303770636345\n",
      "    Epoch 3, Loss: 0.9682744773222016\n",
      "    Epoch 4, Loss: 0.9328092179827757\n",
      "    Test Loss: 0.9866712789543782\n",
      "Now processing: Model 2\n",
      "Learning Rate: 0.0005\n",
      "    Epoch 1, Loss: 1.4337491545748045\n",
      "    Epoch 2, Loss: 1.0663745112039826\n",
      "    Epoch 3, Loss: 1.024500293982821\n",
      "    Epoch 4, Loss: 0.9900847948514498\n",
      "    Test Loss: 1.0240667058331312\n",
      "Learning Rate: 0.0005\n",
      "    Epoch 1, Loss: 1.302976054224101\n",
      "    Epoch 2, Loss: 1.0378186629785524\n"
     ]
    }
   ],
   "source": [
    "models = {initialise_model1:\"Model 1\", initialise_model2:\"Model 2\", initialise_model3:\"Model 3\"}\n",
    "loss_df = pd.DataFrame()\n",
    "for model, name in models.items():\n",
    "    print(f\"Now processing: {name}\")\n",
    "    loss_dict = parameter_fn(model = model, name = name)\n",
    "    loss_df = pd.concat([loss_df, pd.DataFrame(loss_dict)], ignore_index=True)\n",
    "    \n",
    "loss_df"
   ]
  },
  {
   "cell_type": "markdown",
   "metadata": {},
   "source": [
    "# Checking Model"
   ]
  },
  {
   "cell_type": "code",
   "execution_count": null,
   "metadata": {},
   "outputs": [],
   "source": [
    "def ratings_review(user_id, movie_ids):\n",
    "    model.eval()                                 # Set model to evaluation mode\n",
    "    user = torch.tensor([user_id] * len(movie_ids)).to(device)  # Ensure tensor is on the same device as the model\n",
    "    movies = torch.tensor(movie_ids).to(device)  # Ensure tensor is on the same device as the model\n",
    "    with torch.no_grad():\n",
    "        predicted_ratings = model(user, movies).squeeze().tolist()\n",
    "\n",
    "    return predicted_ratings\n",
    "\n",
    "ratings_list = []\n",
    "for id in ratings.userId.unique():\n",
    "        recommended_movies = ratings_review(id, movie_ids)\n",
    "        ratings_list.append(recommended_movies[0])"
   ]
  },
  {
   "cell_type": "code",
   "execution_count": null,
   "metadata": {},
   "outputs": [
    {
     "data": {
      "text/plain": [
       "<Axes: >"
      ]
     },
     "execution_count": 60,
     "metadata": {},
     "output_type": "execute_result"
    },
    {
     "data": {
      "image/png": "[encoded data removed]",
      "text/plain": [
       "<Figure size 640x480 with 1 Axes>"
      ]
     },
     "metadata": {},
     "output_type": "display_data"
    }
   ],
   "source": [
    "sns.scatterplot(ratings_list)\n",
    "plt.plot()"
   ]
  },
  {
   "cell_type": "code",
   "execution_count": null,
   "metadata": {},
   "outputs": [
    {
     "data": {
      "image/png": "[encoded data removed]",
      "text/plain": [
       "<Figure size 1400x600 with 2 Axes>"
      ]
     },
     "metadata": {},
     "output_type": "display_data"
    }
   ],
   "source": [
    "ratings_series = pd.Series(ratings_list)\n",
    "\n",
    "# Create subplots\n",
    "fig, axes = plt.subplots(1, 2, figsize=(14, 6), sharey=True)\n",
    "\n",
    "# Original Data\n",
    "sns.boxplot(y=ratings['rating'], ax=axes[0], color='orange')\n",
    "axes[0].set_title('Original Ratings')\n",
    "axes[0].set_xlabel('Original')\n",
    "axes[0].set_ylabel('Rating')\n",
    "\n",
    "# Model Data\n",
    "sns.boxplot(y=ratings_series, ax=axes[1], color='blue')\n",
    "axes[1].set_title('Model Recommendations')\n",
    "axes[1].set_xlabel('Model')\n",
    "\n",
    "# Adjust layout\n",
    "plt.suptitle('Boxplots of Original and Model Ratings')\n",
    "plt.tight_layout()\n",
    "plt.show()"
   ]
  },
  {
   "cell_type": "code",
   "execution_count": null,
   "metadata": {},
   "outputs": [
    {
     "data": {
      "image/png": "[encoded data removed]",
      "text/plain": [
       "<Figure size 1400x600 with 2 Axes>"
      ]
     },
     "metadata": {},
     "output_type": "display_data"
    }
   ],
   "source": [
    "# Create subplots\n",
    "fig, axes = plt.subplots(1, 2, figsize=(14, 6), sharey=False)\n",
    "xticks = [0, 1, 2, 3, 4, 5]\n",
    "\n",
    "bins = 10\n",
    "# Original Data\n",
    "sns.histplot(x=ratings['rating'], bins = bins, ax=axes[0], color='orange')\n",
    "axes[0].set_title('Original Ratings')\n",
    "axes[0].set_xlabel('Rating')\n",
    "axes[0].set_ylabel('Frequency')\n",
    "axes[0].set_xticks(xticks)\n",
    "\n",
    "# Model Data\n",
    "sns.histplot(x=ratings_series, bins = bins, ax=axes[1], color='blue')\n",
    "axes[1].set_title('Model Recommendations')\n",
    "axes[1].set_xlabel('Rating')\n",
    "axes[1].set_ylabel('Frequency')\n",
    "axes[1].set_xticks(xticks)\n",
    "\n",
    "\n",
    "# Adjust layout\n",
    "plt.suptitle('Histograms of Original and Model Ratings')\n",
    "plt.tight_layout()\n",
    "plt.show()"
   ]
  },
  {
   "cell_type": "code",
   "execution_count": null,
   "metadata": {},
   "outputs": [
    {
     "data": {
      "text/plain": [
       "count    610.000000\n",
       "mean       3.352686\n",
       "std        0.311605\n",
       "min        2.193993\n",
       "25%        3.201938\n",
       "50%        3.297724\n",
       "75%        3.566542\n",
       "max        4.260009\n",
       "dtype: float64"
      ]
     },
     "execution_count": 63,
     "metadata": {},
     "output_type": "execute_result"
    }
   ],
   "source": [
    "ratings_series = pd.Series(ratings_list)\n",
    "ratings_series.describe()"
   ]
  },
  {
   "cell_type": "code",
   "execution_count": null,
   "metadata": {},
   "outputs": [
    {
     "data": {
      "text/plain": [
       "count    100836.000000\n",
       "mean          3.501557\n",
       "std           1.042529\n",
       "min           0.500000\n",
       "25%           3.000000\n",
       "50%           3.500000\n",
       "75%           4.000000\n",
       "max           5.000000\n",
       "Name: rating, dtype: float64"
      ]
     },
     "execution_count": 64,
     "metadata": {},
     "output_type": "execute_result"
    }
   ],
   "source": [
    "ratings.rating.describe()"
   ]
  }
 ],
 "metadata": {
  "kernelspec": {
   "display_name": ".venv",
   "language": "python",
   "name": "python3"
  },
  "language_info": {
   "codemirror_mode": {
    "name": "ipython",
    "version": 3
   },
   "file_extension": ".py",
   "mimetype": "text/x-python",
   "name": "python",
   "nbconvert_exporter": "python",
   "pygments_lexer": "ipython3",
   "version": "3.12.0"
  }
 },
 "nbformat": 4,
 "nbformat_minor": 2
}
