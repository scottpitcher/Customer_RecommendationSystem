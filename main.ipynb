{
 "cells": [
  {
   "cell_type": "code",
   "execution_count": null,
   "metadata": {},
   "outputs": [],
   "source": [
    "# Importing initial packages\n",
    "import pandas as pd\n",
    "import numpy as np\n",
    "import torch\n",
    "import torch.nn as nn\n",
    "import torch.optim as optim\n",
    "from sklearn.model_selection import train_test_split\n",
    "from torch.utils.data import DataLoader, Dataset\n",
    "import seaborn as sns\n",
    "sns.set_style('whitegrid')\n",
    "sns.set_palette(\"deep\")\n",
    "import matplotlib.pyplot as plt\n",
    "\n",
    "# Setting the device to GPU for parallelization\n",
    "device = 'mps' if torch.backends.mps.is_available() else 'cuda' if torch.cuda.is_available() else 'cpu'\n",
    "print(device)"
   ]
  },
  {
   "cell_type": "code",
   "execution_count": null,
   "metadata": {},
   "outputs": [],
   "source": [
    "# Setting Hyperparameters\n",
    "batch_size = 64\n",
    "epochs = 30"
   ]
  },
  {
   "cell_type": "markdown",
   "metadata": {},
   "source": [
    "## Data Loading, Cleaning, and Preprocessing"
   ]
  },
  {
   "cell_type": "markdown",
   "metadata": {},
   "source": [
    "### Data Loading"
   ]
  },
  {
   "cell_type": "code",
   "execution_count": null,
   "metadata": {},
   "outputs": [],
   "source": [
    "# In my project folder I added a data folder with both files (found in repo README) but did not push (gitignore) due to size\n",
    "movies = pd.read_csv('data/movies.csv')\n",
    "\n",
    "ratings = pd.read_csv('data/ratings.csv')"
   ]
  },
  {
   "cell_type": "markdown",
   "metadata": {},
   "source": [
    "#### Inspecting the data"
   ]
  },
  {
   "cell_type": "code",
   "execution_count": null,
   "metadata": {},
   "outputs": [],
   "source": [
    "print(f\"\"\"The shape of movies is: {movies.shape}\n",
    "The shape of rating is: {ratings.shape}\"\"\")\n",
    "\n",
    "print(f\"\"\"The columns of movies is: {movies.columns.to_list()}\n",
    "The columns of rating is: {ratings.columns.to_list()}\n",
    "\n",
    "* Notice that both df's have a movieId column, which will be useful for merging\"\"\")"
   ]
  },
  {
   "cell_type": "code",
   "execution_count": null,
   "metadata": {},
   "outputs": [],
   "source": [
    "# Creating encoders and decoders for our movie ids\n",
    "movie_ids = list(movies.movieId)\n",
    "moviesid_to_title = dict(zip(movies.movieId,movies.title))    # Decoder\n",
    "movietitle_to_id = {j:i for i,j in moviesid_to_title.items()} # Encoder\n",
    "\n",
    "movies.head()"
   ]
  },
  {
   "cell_type": "code",
   "execution_count": null,
   "metadata": {},
   "outputs": [],
   "source": [
    "ratings.head()"
   ]
  },
  {
   "cell_type": "code",
   "execution_count": null,
   "metadata": {},
   "outputs": [],
   "source": [
    "sns.histplot(ratings.rating, bins = 10)\n",
    "plt.show()"
   ]
  },
  {
   "cell_type": "markdown",
   "metadata": {},
   "source": [
    "As this is an already cleaned dataset, we can skip over to data preprocessing."
   ]
  },
  {
   "cell_type": "markdown",
   "metadata": {},
   "source": [
    "### Data Preprocessing"
   ]
  },
  {
   "cell_type": "markdown",
   "metadata": {},
   "source": [
    "For this project we will first need to create a user-movie interaction matrix."
   ]
  },
  {
   "cell_type": "code",
   "execution_count": null,
   "metadata": {},
   "outputs": [],
   "source": [
    "# Assume NAs are not watched by user, so rating of 0\n",
    "user_rating_matrix = ratings.pivot(index='userId', columns='movieId', values='rating').fillna(0)\n",
    "user_rating_matrix.head()"
   ]
  },
  {
   "cell_type": "code",
   "execution_count": null,
   "metadata": {},
   "outputs": [],
   "source": [
    "# Convert this from a pandas df to numpy array\n",
    "user_rating_matrix_np = user_rating_matrix.values\n",
    "print(f\"Shape of the numpy matrix: {user_rating_matrix_np.shape}; represting {user_rating_matrix_np.shape[0]} users with {user_rating_matrix_np.shape[1]} movies.\")"
   ]
  },
  {
   "cell_type": "code",
   "execution_count": null,
   "metadata": {},
   "outputs": [],
   "source": [
    "# Split into training and test split\n",
    "train_data, test_data = train_test_split(user_rating_matrix_np, test_size=0.2, random_state=42)"
   ]
  },
  {
   "cell_type": "code",
   "execution_count": null,
   "metadata": {},
   "outputs": [],
   "source": [
    "# Convert to PyTorch tensors\n",
    "train_data = torch.FloatTensor(train_data)\n",
    "test_data = torch.FloatTensor(test_data)"
   ]
  },
  {
   "cell_type": "markdown",
   "metadata": {},
   "source": [
    "### Creating DataLoader"
   ]
  },
  {
   "cell_type": "code",
   "execution_count": null,
   "metadata": {},
   "outputs": [],
   "source": [
    "class RatingsDataset(Dataset):\n",
    "    def __init__(self, data):\n",
    "        self.data = data.nonzero(as_tuple=True) # Get the indices of non-zero elements\n",
    "        self.ratings = data[self.data]          # Using non-zero indiced to extract those ratings\n",
    "\n",
    "    def __len__ (self):\n",
    "        return len(self.data[0])\n",
    "    \n",
    "    def __getitem__ (self, idx):\n",
    "        user = self.data[0][idx]\n",
    "        item = self.data[1][idx]\n",
    "        rating = self.ratings[idx]\n",
    "        \n",
    "        return user, item, rating\n",
    "    \n",
    "train_dataset = RatingsDataset(train_data)\n",
    "train_loader = DataLoader(train_dataset, batch_size=batch_size, shuffle = True)\n",
    "\n",
    "test_dataset = RatingsDataset(test_data)\n",
    "test_loader = DataLoader(test_dataset, batch_size=batch_size, shuffle = False)\n",
    "\n",
    "print(f\"Batch size: {batch_size}\")\n",
    "print(f\"Number of samples in train_dataset: {len(train_dataset)}\")\n",
    "print(f\"Number of samples in test_dataset: {len(test_dataset)}\")\n"
   ]
  },
  {
   "cell_type": "markdown",
   "metadata": {},
   "source": [
    "## Model Development"
   ]
  },
  {
   "cell_type": "markdown",
   "metadata": {},
   "source": [
    "### Defining Recommender model class"
   ]
  },
  {
   "cell_type": "code",
   "execution_count": null,
   "metadata": {},
   "outputs": [],
   "source": [
    "# Model definition\n",
    "class Recommender(nn.Module):\n",
    "    def __init__(self, num_users, num_items, n_embd = 64):\n",
    "        super(Recommender, self).__init__()\n",
    "        self.user_embedding = nn.Embedding(num_users, n_embd) # Creating an embedding for our users with the correct dimensions\n",
    "        self.item_embedding = nn.Embedding(num_items, n_embd) # Embedding items\n",
    "        self.fc1 = nn.Linear(n_embd * 2, 128)                 # First fully connected (fc) layer\n",
    "        self.fc2 = nn.Linear(128, 64)                         # Second fc layer\n",
    "        self.fc3 = nn.Linear(64, 1)                           # Finaly fc layer, with an output of one value\n",
    "        self.sigmoid = nn.Sigmoid()                           # Sigmoid activation function to compress the output to a value between (0,1)\n",
    "        self.dropout1 = nn.Dropout(0.5)                       # Dropout layer to prevent overfitting\n",
    "        self.dropout2 = nn.Dropout(0.3)                       # Dropout layer to prevent overfitting\n",
    "\n",
    "    def forward(self, user, item):\n",
    "        user_embed = self.user_embedding(user)          # Embedding our users\n",
    "        item_embed = self.item_embedding(item)          # Embedding the movies\n",
    "        \n",
    "        x = torch.cat([user_embed, item_embed], dim=-1) # Concatenating the users and items \n",
    "        x = torch.relu(self.fc1(x))                     # Applying first fc layer, with a ReLU activation function\n",
    "        # x = self.dropout1(x)\n",
    "        x = torch.relu(self.fc2(x))\n",
    "        # x = self.dropout2(x)\n",
    "        x = self.fc3(x)                                 # Final layer to get predicted rating\n",
    "        x = self.sigmoid(x)                             # Applying the sigmoid function\n",
    "        x = x*5                                         # Scale the output to [0,5]   \n",
    "        return x\n",
    "\n",
    "\n",
    "# Defining model parameters (amount of users and movies) based on our data\n",
    "num_users, num_items = user_rating_matrix_np.shape\n",
    "# Initializing the model\n",
    "model = Recommender(num_users, num_items).to(device)"
   ]
  },
  {
   "cell_type": "markdown",
   "metadata": {},
   "source": [
    "### Defining Loss Function and Optimizer\n",
    "Purpose:"
   ]
  },
  {
   "cell_type": "code",
   "execution_count": null,
   "metadata": {},
   "outputs": [],
   "source": [
    "criterion = nn.MSELoss()\n",
    "optimizer = optim.Adam(model.parameters(), lr = 0.01)"
   ]
  },
  {
   "cell_type": "markdown",
   "metadata": {},
   "source": [
    "Now that we have created our model, and prepared the data for training, we can move onto model training!"
   ]
  },
  {
   "cell_type": "markdown",
   "metadata": {},
   "source": [
    "## Model Training"
   ]
  },
  {
   "cell_type": "code",
   "execution_count": null,
   "metadata": {},
   "outputs": [],
   "source": [
    "def training_loop(epochs):\n",
    "    model.train()\n",
    "    loss_dict = {}\n",
    "    for epoch in range(epochs):\n",
    "        total_loss = 0\n",
    "        for user, item, rating in train_loader:\n",
    "            user, item, rating = user.to(device), item.to(device), rating.to(device)\n",
    "            optimizer.zero_grad()\n",
    "            output = model(user, item).squeeze()\n",
    "            loss = criterion(output, rating)\n",
    "            loss.backward()\n",
    "            optimizer.step()\n",
    "            total_loss += loss.item()\n",
    "        \n",
    "        # Print loss after every ten epochs\n",
    "        if (epoch+1)%10==0:\n",
    "            epoch_loss = total_loss/len(train_loader)      # Get the average loss for this epoch\n",
    "            loss_dict[epoch+1] = epoch_loss                # Store this epoch, loss into a dict for graphing\n",
    "            print(f\"Epoch {epoch+1}, Loss: {epoch_loss}\")  # Print the average loss for this epoch\n",
    "    \n",
    "    return loss_dict # Just return the final loss \n",
    "\n",
    "training_loop(epochs)"
   ]
  },
  {
   "cell_type": "markdown",
   "metadata": {},
   "source": [
    "## Model Evaluation"
   ]
  },
  {
   "cell_type": "code",
   "execution_count": null,
   "metadata": {},
   "outputs": [],
   "source": [
    "def validation_loop():\n",
    "    model.eval()\n",
    "    total_loss = 0\n",
    "    with torch.no_grad():\n",
    "        for user, item, rating in test_loader:\n",
    "            user, item, rating = user.to(device), item.to(device), rating.to(device)\n",
    "            output = model(user, item).squeeze()\n",
    "            loss = criterion(output, rating)\n",
    "            total_loss += loss.item()\n",
    "        \n",
    "    test_loss = total_loss / len(test_loader)   \n",
    "\n",
    "    print(f\"Test Loss: {test_loss}\")\n",
    "    return test_loss\n",
    "\n",
    "validation_loop()"
   ]
  },
  {
   "cell_type": "markdown",
   "metadata": {},
   "source": [
    "We recieved a test loss much higher than our training loss. We overfit! We'll continue to tuning the model"
   ]
  },
  {
   "cell_type": "markdown",
   "metadata": {},
   "source": [
    "## Hyperparameter Tuning"
   ]
  },
  {
   "cell_type": "markdown",
   "metadata": {},
   "source": [
    "Here we'll test different "
   ]
  },
  {
   "cell_type": "markdown",
   "metadata": {},
   "source": [
    "learning_rates = [0.01, 0.02, 0.03]\n",
    "\n",
    "tuning_df = pd.DataFrame()\n",
    "for lr in learning_rates:\n",
    "    model = Recommender(num_users, num_items).to(device)   # Re-initialising the model\n",
    "    optimizer = optim.Adam(model.parameters(), lr = lr)\n",
    "    loss_dict = training_loop(epochs)\n",
    "    train_loss = loss_dict[30]\n",
    "    test_loss = validation_loop()\n",
    "\n",
    "    temp_df = pd.DataFrame({\n",
    "        'learning_rate': [lr],\n",
    "        'train_loss': [train_loss],\n",
    "        'test_loss': [test_loss]\n",
    "    })\n",
    "    \n",
    "    # Append the temp_df to the tuning_df\n",
    "    tuning_df = pd.concat([tuning_df, temp_df], ignore_index=True)\n",
    "\n",
    "print(tuning_df)"
   ]
  },
  {
   "cell_type": "markdown",
   "metadata": {},
   "source": [
    "## Checking the Model"
   ]
  },
  {
   "cell_type": "code",
   "execution_count": 44,
   "metadata": {},
   "outputs": [],
   "source": [
    "def ratings_review(user_id, movie_ids):\n",
    "    model.eval()                                 # Set model to evaluation mode\n",
    "    user = torch.tensor([user_id] * len(movie_ids)).to(device)  # Ensure tensor is on the same device as the model\n",
    "    movies = torch.tensor(movie_ids).to(device)  # Ensure tensor is on the same device as the model\n",
    "    with torch.no_grad():\n",
    "        predicted_ratings = model(user, movies).squeeze().tolist()\n",
    "\n",
    "    return predicted_ratings\n",
    "\n",
    "ratings_list = []\n",
    "for id in ratings.userId.unique():\n",
    "        recommended_movies = ratings_review(id, movie_ids)\n",
    "        ratings_list.append(recommended_movies[0])"
   ]
  },
  {
   "cell_type": "code",
   "execution_count": 45,
   "metadata": {},
   "outputs": [
    {
     "data": {
      "text/plain": [
       "<Axes: >"
      ]
     },
     "execution_count": 45,
     "metadata": {},
     "output_type": "execute_result"
    },
    {
     "data": {
      "image/png": "[encoded data removed]",
      "text/plain": [
       "<Figure size 640x480 with 1 Axes>"
      ]
     },
     "metadata": {},
     "output_type": "display_data"
    }
   ],
   "source": [
    "sns.scatterplot(ratings_list)"
   ]
  },
  {
   "cell_type": "code",
   "execution_count": 46,
   "metadata": {},
   "outputs": [
    {
     "data": {
      "image/png": "[encoded data removed]",
      "text/plain": [
       "<Figure size 640x480 with 1 Axes>"
      ]
     },
     "metadata": {},
     "output_type": "display_data"
    }
   ],
   "source": [
    "sns.histplot(ratings_list, bins=np.arange(0,5,0.5), kde=True)\n",
    "plt.xlabel('Ratings')\n",
    "plt.ylabel('Frequency')\n",
    "plt.title('Distribution of Ratings')\n",
    "plt.show()"
   ]
  },
  {
   "cell_type": "code",
   "execution_count": 47,
   "metadata": {},
   "outputs": [
    {
     "data": {
      "text/plain": [
       "count    610.000000\n",
       "mean       3.327564\n",
       "std        0.653280\n",
       "min        1.161086\n",
       "25%        2.851758\n",
       "50%        3.358439\n",
       "75%        3.804298\n",
       "max        4.999483\n",
       "dtype: float64"
      ]
     },
     "execution_count": 47,
     "metadata": {},
     "output_type": "execute_result"
    }
   ],
   "source": [
    "ratings_series = pd.Series(ratings_list)\n",
    "ratings_series.describe()"
   ]
  },
  {
   "cell_type": "code",
   "execution_count": 48,
   "metadata": {},
   "outputs": [
    {
     "data": {
      "text/plain": [
       "count    100836.000000\n",
       "mean          3.501557\n",
       "std           1.042529\n",
       "min           0.500000\n",
       "25%           3.000000\n",
       "50%           3.500000\n",
       "75%           4.000000\n",
       "max           5.000000\n",
       "Name: rating, dtype: float64"
      ]
     },
     "execution_count": 48,
     "metadata": {},
     "output_type": "execute_result"
    }
   ],
   "source": [
    "ratings.rating.describe()"
   ]
  },
  {
   "cell_type": "markdown",
   "metadata": {},
   "source": [
    "## Using the Model"
   ]
  },
  {
   "cell_type": "code",
   "execution_count": null,
   "metadata": {},
   "outputs": [],
   "source": [
    "def recommend_movies(user_id, movie_ids, top_n=10):\n",
    "    model.eval()                                 # Set model to evaluation mode\n",
    "    user = torch.tensor([user_id] * len(movie_ids)).to(device)  # Ensure tensor is on the same device as the model\n",
    "    movies = torch.tensor(movie_ids).to(device)  # Ensure tensor is on the same device as the model\n",
    "    with torch.no_grad():\n",
    "        predicted_ratings = model(user, movies).squeeze()\n",
    "    top_movie_indices = predicted_ratings.argsort(descending=True)[:top_n]\n",
    "    recommended_movie_ids = movies[top_movie_indices].tolist()\n",
    "    recommended_ratings = predicted_ratings[top_movie_indices].tolist()\n",
    "    recommendations = list(zip(recommended_movie_ids, recommended_ratings))\n",
    "    return recommendations\n",
    "\n",
    "# Example usage for recommendations\n",
    "# recommended_movies = recommend_movies(0, movie_ids, top_n=1)\n",
    "\n",
    "ratings_list = []\n",
    "for id in ratings.userId.unique():\n",
    "        recommended_movies = recommend_movies(id, movie_ids, top_n=9742)\n",
    "        ratings_list.append(recommended_movies[0][1])\n",
    "\n",
    "\n",
    "\n",
    "#print(f\"Movie ID: {moviesid_to_title[movie_id]}, Estimated Rating: {rating:.2f}\")\n",
    "\n"
   ]
  }
 ],
 "metadata": {
  "kernelspec": {
   "display_name": ".venv",
   "language": "python",
   "name": "python3"
  },
  "language_info": {
   "codemirror_mode": {
    "name": "ipython",
    "version": 3
   },
   "file_extension": ".py",
   "mimetype": "text/x-python",
   "name": "python",
   "nbconvert_exporter": "python",
   "pygments_lexer": "ipython3",
   "version": "3.12.0"
  }
 },
 "nbformat": 4,
 "nbformat_minor": 2
}
